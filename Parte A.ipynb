{
 "cells": [
  {
   "cell_type": "markdown",
   "id": "1dbf662e",
   "metadata": {},
   "source": [
    "# Trabalho/ Projeto de Grupo - Mariana Pereira e Daniela Araújo"
   ]
  },
  {
   "cell_type": "markdown",
   "id": "3264250c",
   "metadata": {},
   "source": [
    "# A"
   ]
  },
  {
   "cell_type": "markdown",
   "id": "706df438",
   "metadata": {},
   "source": [
    "<strong>URL do conjunto de dados</strong> - https://gist.github.com/apurvadave/3afe546bc05e4e544b24 "
   ]
  },
  {
   "cell_type": "markdown",
   "id": "bd5b8f8a",
   "metadata": {},
   "source": [
    "<strong>Fundamentação da escolha</strong> - O shark tank é um reality show que é do nosso interesse e consequentemente analisar os seus respetivos dados será uma experiência bastante didática. A dinâmica deste programa é deveras pertinente para a compreensão dos dados a analisar, portanto é constituído por concorrentes que através de uma apresentação transmitem a sua ideia para uma empresa a um painel de investidores, mais conhecidos como \"sharks\", que decidem se devem ou não investir nessa empresa. Posteriormente, os investidores dão uma certa quantia em dinheiro em troca de uma participação percentual na empresa. Projetamos assim, que é uma oportunidade única e que com este trabalho iremos enriquecer o nosso conhecimento a nível de processamento, analise e visualizações de informação extraída do conjunto de dados selecionado."
   ]
  },
  {
   "cell_type": "markdown",
   "id": "798429cf",
   "metadata": {},
   "source": [
    "<strong>Sobre o conjunto de dados</strong> - Os dados que iremos analisar neste trabalho contêm informações sobre todas as propostas das primeiras 4 temporadas do programa, incluindo:\n",
    "\n",
    "* o nome\n",
    "* quanto é que os concorrentes pediram de financiamento\n",
    "* se foi ou não financiado\n",
    "* quais tubarões escolheram para investir no empreendimento \n",
    "* se financiado, a quantidade de dinheiro que os tubarões colocaram e a porcentagem de capital que receberam em troca"
   ]
  },
  {
   "cell_type": "code",
   "execution_count": 821,
   "id": "2e09d36a",
   "metadata": {},
   "outputs": [],
   "source": [
    "# Import the module we need to use for the dataset\n",
    "import pandas as pd\n",
    "import matplotlib.pyplot as plt"
   ]
  },
  {
   "cell_type": "code",
   "execution_count": 822,
   "id": "80a2474f",
   "metadata": {},
   "outputs": [
    {
     "data": {
      "text/html": [
       "<div>\n",
       "<style scoped>\n",
       "    .dataframe tbody tr th:only-of-type {\n",
       "        vertical-align: middle;\n",
       "    }\n",
       "\n",
       "    .dataframe tbody tr th {\n",
       "        vertical-align: top;\n",
       "    }\n",
       "\n",
       "    .dataframe thead th {\n",
       "        text-align: right;\n",
       "    }\n",
       "</style>\n",
       "<table border=\"1\" class=\"dataframe\">\n",
       "  <thead>\n",
       "    <tr style=\"text-align: right;\">\n",
       "      <th></th>\n",
       "      <th>Season</th>\n",
       "      <th>No. in series</th>\n",
       "      <th>Company</th>\n",
       "      <th>Deal</th>\n",
       "      <th>Industry</th>\n",
       "      <th>Entrepreneur Gender</th>\n",
       "      <th>Amount</th>\n",
       "      <th>Equity</th>\n",
       "      <th>Valuation</th>\n",
       "      <th>Corcoran</th>\n",
       "      <th>Cuban</th>\n",
       "      <th>Greiner</th>\n",
       "      <th>Herjavec</th>\n",
       "      <th>John</th>\n",
       "      <th>O'Leary</th>\n",
       "      <th>Harrington</th>\n",
       "      <th>Guest</th>\n",
       "      <th># Sharks</th>\n",
       "      <th>$ per shark</th>\n",
       "      <th>Details / Notes</th>\n",
       "    </tr>\n",
       "    <tr>\n",
       "      <th>Row</th>\n",
       "      <th></th>\n",
       "      <th></th>\n",
       "      <th></th>\n",
       "      <th></th>\n",
       "      <th></th>\n",
       "      <th></th>\n",
       "      <th></th>\n",
       "      <th></th>\n",
       "      <th></th>\n",
       "      <th></th>\n",
       "      <th></th>\n",
       "      <th></th>\n",
       "      <th></th>\n",
       "      <th></th>\n",
       "      <th></th>\n",
       "      <th></th>\n",
       "      <th></th>\n",
       "      <th></th>\n",
       "      <th></th>\n",
       "      <th></th>\n",
       "    </tr>\n",
       "  </thead>\n",
       "  <tbody>\n",
       "    <tr>\n",
       "      <th>NaN</th>\n",
       "      <td>NaN</td>\n",
       "      <td>NaN</td>\n",
       "      <td>NaN</td>\n",
       "      <td>NaN</td>\n",
       "      <td>NaN</td>\n",
       "      <td>NaN</td>\n",
       "      <td>NaN</td>\n",
       "      <td>NaN</td>\n",
       "      <td>NaN</td>\n",
       "      <td>NaN</td>\n",
       "      <td>NaN</td>\n",
       "      <td>NaN</td>\n",
       "      <td>NaN</td>\n",
       "      <td>NaN</td>\n",
       "      <td>NaN</td>\n",
       "      <td>NaN</td>\n",
       "      <td>NaN</td>\n",
       "      <td>NaN</td>\n",
       "      <td>NaN</td>\n",
       "      <td>NaN</td>\n",
       "    </tr>\n",
       "    <tr>\n",
       "      <th>2.0</th>\n",
       "      <td>1.0</td>\n",
       "      <td>1.0</td>\n",
       "      <td>Ava the Elephant</td>\n",
       "      <td>Yes</td>\n",
       "      <td>Healthcare</td>\n",
       "      <td>Female</td>\n",
       "      <td>$50,000</td>\n",
       "      <td>55%</td>\n",
       "      <td>$90,909</td>\n",
       "      <td>1.0</td>\n",
       "      <td>NaN</td>\n",
       "      <td>NaN</td>\n",
       "      <td>NaN</td>\n",
       "      <td>NaN</td>\n",
       "      <td>NaN</td>\n",
       "      <td>NaN</td>\n",
       "      <td>NaN</td>\n",
       "      <td>1.0</td>\n",
       "      <td>$50,000</td>\n",
       "      <td>NaN</td>\n",
       "    </tr>\n",
       "    <tr>\n",
       "      <th>3.0</th>\n",
       "      <td>1.0</td>\n",
       "      <td>1.0</td>\n",
       "      <td>Mr. Tod's Pie Factory</td>\n",
       "      <td>Yes</td>\n",
       "      <td>Food and Beverage</td>\n",
       "      <td>Male</td>\n",
       "      <td>$460,000</td>\n",
       "      <td>50%</td>\n",
       "      <td>$920,000</td>\n",
       "      <td>1.0</td>\n",
       "      <td>NaN</td>\n",
       "      <td>NaN</td>\n",
       "      <td>NaN</td>\n",
       "      <td>1.0</td>\n",
       "      <td>NaN</td>\n",
       "      <td>NaN</td>\n",
       "      <td>NaN</td>\n",
       "      <td>2.0</td>\n",
       "      <td>$230,000</td>\n",
       "      <td>NaN</td>\n",
       "    </tr>\n",
       "    <tr>\n",
       "      <th>4.0</th>\n",
       "      <td>1.0</td>\n",
       "      <td>1.0</td>\n",
       "      <td>Wispots</td>\n",
       "      <td>No</td>\n",
       "      <td>Business Services</td>\n",
       "      <td>Male</td>\n",
       "      <td>NaN</td>\n",
       "      <td>NaN</td>\n",
       "      <td>NaN</td>\n",
       "      <td>NaN</td>\n",
       "      <td>NaN</td>\n",
       "      <td>NaN</td>\n",
       "      <td>NaN</td>\n",
       "      <td>NaN</td>\n",
       "      <td>NaN</td>\n",
       "      <td>NaN</td>\n",
       "      <td>NaN</td>\n",
       "      <td>0.0</td>\n",
       "      <td>NaN</td>\n",
       "      <td>NaN</td>\n",
       "    </tr>\n",
       "    <tr>\n",
       "      <th>5.0</th>\n",
       "      <td>1.0</td>\n",
       "      <td>1.0</td>\n",
       "      <td>College Foxes Packing Boxes</td>\n",
       "      <td>No</td>\n",
       "      <td>Lifestyle / Home</td>\n",
       "      <td>Male</td>\n",
       "      <td>NaN</td>\n",
       "      <td>NaN</td>\n",
       "      <td>NaN</td>\n",
       "      <td>NaN</td>\n",
       "      <td>NaN</td>\n",
       "      <td>NaN</td>\n",
       "      <td>NaN</td>\n",
       "      <td>NaN</td>\n",
       "      <td>NaN</td>\n",
       "      <td>NaN</td>\n",
       "      <td>NaN</td>\n",
       "      <td>0.0</td>\n",
       "      <td>NaN</td>\n",
       "      <td>NaN</td>\n",
       "    </tr>\n",
       "  </tbody>\n",
       "</table>\n",
       "</div>"
      ],
      "text/plain": [
       "     Season  No. in series                      Company Deal  \\\n",
       "Row                                                            \n",
       "NaN     NaN            NaN                          NaN  NaN   \n",
       "2.0     1.0            1.0             Ava the Elephant  Yes   \n",
       "3.0     1.0            1.0        Mr. Tod's Pie Factory  Yes   \n",
       "4.0     1.0            1.0                      Wispots   No   \n",
       "5.0     1.0            1.0  College Foxes Packing Boxes   No   \n",
       "\n",
       "              Industry Entrepreneur Gender    Amount Equity Valuation  \\\n",
       "Row                                                                     \n",
       "NaN                NaN                 NaN       NaN    NaN       NaN   \n",
       "2.0         Healthcare              Female   $50,000    55%   $90,909   \n",
       "3.0  Food and Beverage                Male  $460,000    50%  $920,000   \n",
       "4.0  Business Services                Male       NaN    NaN       NaN   \n",
       "5.0   Lifestyle / Home                Male       NaN    NaN       NaN   \n",
       "\n",
       "     Corcoran  Cuban  Greiner  Herjavec  John  O'Leary  Harrington  Guest  \\\n",
       "Row                                                                         \n",
       "NaN       NaN    NaN      NaN       NaN   NaN      NaN         NaN    NaN   \n",
       "2.0       1.0    NaN      NaN       NaN   NaN      NaN         NaN    NaN   \n",
       "3.0       1.0    NaN      NaN       NaN   1.0      NaN         NaN    NaN   \n",
       "4.0       NaN    NaN      NaN       NaN   NaN      NaN         NaN    NaN   \n",
       "5.0       NaN    NaN      NaN       NaN   NaN      NaN         NaN    NaN   \n",
       "\n",
       "     # Sharks $ per shark Details / Notes  \n",
       "Row                                        \n",
       "NaN       NaN         NaN             NaN  \n",
       "2.0       1.0     $50,000             NaN  \n",
       "3.0       2.0    $230,000             NaN  \n",
       "4.0       0.0         NaN             NaN  \n",
       "5.0       0.0         NaN             NaN  "
      ]
     },
     "execution_count": 822,
     "metadata": {},
     "output_type": "execute_result"
    }
   ],
   "source": [
    "# Import the csv data file\n",
    "df = pd.read_csv(\"data.csv\", index_col=0, parse_dates=True, encoding='latin-1')\n",
    "df.head()"
   ]
  },
  {
   "cell_type": "code",
   "execution_count": 823,
   "id": "b9589e7a",
   "metadata": {},
   "outputs": [
    {
     "ename": "TypeError",
     "evalue": "'str' object is not callable",
     "output_type": "error",
     "traceback": [
      "\u001b[0;31m---------------------------------------------------------------------------\u001b[0m",
      "\u001b[0;31mTypeError\u001b[0m                                 Traceback (most recent call last)",
      "\u001b[0;32m/var/folders/_h/qh8nl2t946s4101bs7h1fy7w0000gn/T/ipykernel_16120/1215651180.py\u001b[0m in \u001b[0;36m<module>\u001b[0;34m\u001b[0m\n\u001b[1;32m      1\u001b[0m \u001b[0;31m# Inspect the csv data\u001b[0m\u001b[0;34m\u001b[0m\u001b[0;34m\u001b[0m\u001b[0m\n\u001b[0;32m----> 2\u001b[0;31m \u001b[0mprint\u001b[0m\u001b[0;34m(\u001b[0m\u001b[0mdf\u001b[0m\u001b[0;34m.\u001b[0m\u001b[0mshape\u001b[0m\u001b[0;34m)\u001b[0m\u001b[0;34m\u001b[0m\u001b[0;34m\u001b[0m\u001b[0m\n\u001b[0m\u001b[1;32m      3\u001b[0m \u001b[0mprint\u001b[0m\u001b[0;34m(\u001b[0m\u001b[0mdf\u001b[0m\u001b[0;34m.\u001b[0m\u001b[0mindex\u001b[0m\u001b[0;34m.\u001b[0m\u001b[0mis_unique\u001b[0m\u001b[0;34m)\u001b[0m\u001b[0;34m\u001b[0m\u001b[0;34m\u001b[0m\u001b[0m\n\u001b[1;32m      4\u001b[0m \u001b[0mprint\u001b[0m\u001b[0;34m(\u001b[0m\u001b[0mdf\u001b[0m\u001b[0;34m.\u001b[0m\u001b[0mcolumns\u001b[0m\u001b[0;34m.\u001b[0m\u001b[0mis_unique\u001b[0m\u001b[0;34m)\u001b[0m\u001b[0;34m\u001b[0m\u001b[0;34m\u001b[0m\u001b[0m\n\u001b[1;32m      5\u001b[0m \u001b[0mprint\u001b[0m\u001b[0;34m(\u001b[0m\u001b[0mdf\u001b[0m\u001b[0;34m[\u001b[0m\u001b[0mdf\u001b[0m\u001b[0;34m.\u001b[0m\u001b[0mduplicated\u001b[0m\u001b[0;34m(\u001b[0m\u001b[0;34m)\u001b[0m \u001b[0;34m==\u001b[0m \u001b[0;32mTrue\u001b[0m\u001b[0;34m]\u001b[0m\u001b[0;34m)\u001b[0m\u001b[0;34m\u001b[0m\u001b[0;34m\u001b[0m\u001b[0m\n",
      "\u001b[0;31mTypeError\u001b[0m: 'str' object is not callable"
     ]
    }
   ],
   "source": [
    "# Inspect the csv data \n",
    "print(df.shape)\n",
    "print(df.index.is_unique)\n",
    "print(df.columns.is_unique)\n",
    "print(df[df.duplicated() == True])\n",
    "#df.head()"
   ]
  },
  {
   "cell_type": "markdown",
   "id": "0f2b1f6c",
   "metadata": {},
   "source": [
    "Portanto, no geral o ficheiro csv está pronto para ser tratado, dado que não se verifica valores duplicados para linhas e colunas, são todos exclusivos."
   ]
  },
  {
   "cell_type": "markdown",
   "id": "1c30ed9d",
   "metadata": {},
   "source": [
    "<strong>Tratamento de dados</strong>"
   ]
  },
  {
   "cell_type": "code",
   "execution_count": 824,
   "id": "71a0c35a",
   "metadata": {},
   "outputs": [
    {
     "ename": "TypeError",
     "evalue": "'str' object is not callable",
     "output_type": "error",
     "traceback": [
      "\u001b[0;31m---------------------------------------------------------------------------\u001b[0m",
      "\u001b[0;31mTypeError\u001b[0m                                 Traceback (most recent call last)",
      "\u001b[0;32m/var/folders/_h/qh8nl2t946s4101bs7h1fy7w0000gn/T/ipykernel_16120/2767940748.py\u001b[0m in \u001b[0;36m<module>\u001b[0;34m\u001b[0m\n\u001b[1;32m     13\u001b[0m )\n\u001b[1;32m     14\u001b[0m \u001b[0;34m\u001b[0m\u001b[0m\n\u001b[0;32m---> 15\u001b[0;31m \u001b[0mprint\u001b[0m\u001b[0;34m(\u001b[0m\u001b[0mdf\u001b[0m\u001b[0;34m.\u001b[0m\u001b[0mdescribe\u001b[0m\u001b[0;34m(\u001b[0m\u001b[0;34m)\u001b[0m\u001b[0;34m)\u001b[0m\u001b[0;34m\u001b[0m\u001b[0;34m\u001b[0m\u001b[0m\n\u001b[0m\u001b[1;32m     16\u001b[0m \u001b[0mdf\u001b[0m\u001b[0;34m.\u001b[0m\u001b[0minfo\u001b[0m\u001b[0;34m(\u001b[0m\u001b[0;34m)\u001b[0m\u001b[0;34m\u001b[0m\u001b[0;34m\u001b[0m\u001b[0m\n",
      "\u001b[0;31mTypeError\u001b[0m: 'str' object is not callable"
     ]
    }
   ],
   "source": [
    "# Remover colunas que não precisamos para a análise\n",
    "df = df.drop(\n",
    "    ['Valuation','# Sharks', 'Details / Notes'],\n",
    "    axis=1 \n",
    ")\n",
    "\n",
    "# Renomear as colunas que precisamos para a análise\n",
    "df = df.rename(\n",
    "    columns = {\n",
    "        'No. in series': 'No. episode','Entrepreneur Gender': 'Gender',\n",
    "        '$ per shark': 'Total'\n",
    "        } \n",
    ")\n",
    "\n",
    "print(df.describe())\n",
    "df.info()"
   ]
  },
  {
   "cell_type": "markdown",
   "id": "e685e83f",
   "metadata": {},
   "source": [
    "O ficheiro está pronto para ser usado com os nomes respetivos. De seguida é realizada a verificação de dados ausentes, que para além dos nomes das colunas também é necessária."
   ]
  },
  {
   "cell_type": "code",
   "execution_count": 825,
   "id": "c5a4b21d",
   "metadata": {},
   "outputs": [
    {
     "ename": "TypeError",
     "evalue": "'str' object is not callable",
     "output_type": "error",
     "traceback": [
      "\u001b[0;31m---------------------------------------------------------------------------\u001b[0m",
      "\u001b[0;31mTypeError\u001b[0m                                 Traceback (most recent call last)",
      "\u001b[0;32m/var/folders/_h/qh8nl2t946s4101bs7h1fy7w0000gn/T/ipykernel_16120/2971224961.py\u001b[0m in \u001b[0;36m<module>\u001b[0;34m\u001b[0m\n\u001b[1;32m      1\u001b[0m \u001b[0;31m# Verificação de dados ausentes (missing data checking)\u001b[0m\u001b[0;34m\u001b[0m\u001b[0;34m\u001b[0m\u001b[0m\n\u001b[0;32m----> 2\u001b[0;31m \u001b[0mprint\u001b[0m\u001b[0;34m(\u001b[0m\u001b[0mdf\u001b[0m\u001b[0;34m.\u001b[0m\u001b[0misna\u001b[0m\u001b[0;34m(\u001b[0m\u001b[0;34m)\u001b[0m\u001b[0;34m)\u001b[0m\u001b[0;34m\u001b[0m\u001b[0;34m\u001b[0m\u001b[0m\n\u001b[0m",
      "\u001b[0;31mTypeError\u001b[0m: 'str' object is not callable"
     ]
    }
   ],
   "source": [
    "# Verificação de dados ausentes (missing data checking)\n",
    "print(df.isna())"
   ]
  },
  {
   "cell_type": "markdown",
   "id": "efa39a65",
   "metadata": {},
   "source": [
    "Existe uma coluna para cada um dos \"sharks\", sendo que 1 indica que eles optaram por investir nessa empresa, enquanto um valor ausente indica que eles não optaram por investir nessa empresa. Até ao momento esses valores ausentes aparecem como NaNs quando lemos os dados, portanto é necessário preencher esses valores ausentes com zeros."
   ]
  },
  {
   "cell_type": "code",
   "execution_count": 826,
   "id": "096cdcc6",
   "metadata": {},
   "outputs": [
    {
     "data": {
      "text/html": [
       "<div>\n",
       "<style scoped>\n",
       "    .dataframe tbody tr th:only-of-type {\n",
       "        vertical-align: middle;\n",
       "    }\n",
       "\n",
       "    .dataframe tbody tr th {\n",
       "        vertical-align: top;\n",
       "    }\n",
       "\n",
       "    .dataframe thead th {\n",
       "        text-align: right;\n",
       "    }\n",
       "</style>\n",
       "<table border=\"1\" class=\"dataframe\">\n",
       "  <thead>\n",
       "    <tr style=\"text-align: right;\">\n",
       "      <th></th>\n",
       "      <th>Season</th>\n",
       "      <th>No. episode</th>\n",
       "      <th>Company</th>\n",
       "      <th>Deal</th>\n",
       "      <th>Industry</th>\n",
       "      <th>Gender</th>\n",
       "      <th>Amount</th>\n",
       "      <th>Equity</th>\n",
       "      <th>Corcoran</th>\n",
       "      <th>Cuban</th>\n",
       "      <th>Greiner</th>\n",
       "      <th>Herjavec</th>\n",
       "      <th>John</th>\n",
       "      <th>O'Leary</th>\n",
       "      <th>Harrington</th>\n",
       "      <th>Guest</th>\n",
       "      <th>Total</th>\n",
       "    </tr>\n",
       "    <tr>\n",
       "      <th>Row</th>\n",
       "      <th></th>\n",
       "      <th></th>\n",
       "      <th></th>\n",
       "      <th></th>\n",
       "      <th></th>\n",
       "      <th></th>\n",
       "      <th></th>\n",
       "      <th></th>\n",
       "      <th></th>\n",
       "      <th></th>\n",
       "      <th></th>\n",
       "      <th></th>\n",
       "      <th></th>\n",
       "      <th></th>\n",
       "      <th></th>\n",
       "      <th></th>\n",
       "      <th></th>\n",
       "    </tr>\n",
       "  </thead>\n",
       "  <tbody>\n",
       "    <tr>\n",
       "      <th>NaN</th>\n",
       "      <td>NaN</td>\n",
       "      <td>NaN</td>\n",
       "      <td>NaN</td>\n",
       "      <td>NaN</td>\n",
       "      <td>NaN</td>\n",
       "      <td>NaN</td>\n",
       "      <td>NaN</td>\n",
       "      <td>NaN</td>\n",
       "      <td>0.0</td>\n",
       "      <td>0.0</td>\n",
       "      <td>0.0</td>\n",
       "      <td>0.0</td>\n",
       "      <td>0.0</td>\n",
       "      <td>0.0</td>\n",
       "      <td>0.0</td>\n",
       "      <td>NaN</td>\n",
       "      <td>NaN</td>\n",
       "    </tr>\n",
       "    <tr>\n",
       "      <th>2.0</th>\n",
       "      <td>1.0</td>\n",
       "      <td>1.0</td>\n",
       "      <td>Ava the Elephant</td>\n",
       "      <td>Yes</td>\n",
       "      <td>Healthcare</td>\n",
       "      <td>Female</td>\n",
       "      <td>$50,000</td>\n",
       "      <td>55%</td>\n",
       "      <td>1.0</td>\n",
       "      <td>0.0</td>\n",
       "      <td>0.0</td>\n",
       "      <td>0.0</td>\n",
       "      <td>0.0</td>\n",
       "      <td>0.0</td>\n",
       "      <td>0.0</td>\n",
       "      <td>NaN</td>\n",
       "      <td>$50,000</td>\n",
       "    </tr>\n",
       "    <tr>\n",
       "      <th>3.0</th>\n",
       "      <td>1.0</td>\n",
       "      <td>1.0</td>\n",
       "      <td>Mr. Tod's Pie Factory</td>\n",
       "      <td>Yes</td>\n",
       "      <td>Food and Beverage</td>\n",
       "      <td>Male</td>\n",
       "      <td>$460,000</td>\n",
       "      <td>50%</td>\n",
       "      <td>1.0</td>\n",
       "      <td>0.0</td>\n",
       "      <td>0.0</td>\n",
       "      <td>0.0</td>\n",
       "      <td>1.0</td>\n",
       "      <td>0.0</td>\n",
       "      <td>0.0</td>\n",
       "      <td>NaN</td>\n",
       "      <td>$230,000</td>\n",
       "    </tr>\n",
       "    <tr>\n",
       "      <th>4.0</th>\n",
       "      <td>1.0</td>\n",
       "      <td>1.0</td>\n",
       "      <td>Wispots</td>\n",
       "      <td>No</td>\n",
       "      <td>Business Services</td>\n",
       "      <td>Male</td>\n",
       "      <td>NaN</td>\n",
       "      <td>NaN</td>\n",
       "      <td>0.0</td>\n",
       "      <td>0.0</td>\n",
       "      <td>0.0</td>\n",
       "      <td>0.0</td>\n",
       "      <td>0.0</td>\n",
       "      <td>0.0</td>\n",
       "      <td>0.0</td>\n",
       "      <td>NaN</td>\n",
       "      <td>NaN</td>\n",
       "    </tr>\n",
       "    <tr>\n",
       "      <th>5.0</th>\n",
       "      <td>1.0</td>\n",
       "      <td>1.0</td>\n",
       "      <td>College Foxes Packing Boxes</td>\n",
       "      <td>No</td>\n",
       "      <td>Lifestyle / Home</td>\n",
       "      <td>Male</td>\n",
       "      <td>NaN</td>\n",
       "      <td>NaN</td>\n",
       "      <td>0.0</td>\n",
       "      <td>0.0</td>\n",
       "      <td>0.0</td>\n",
       "      <td>0.0</td>\n",
       "      <td>0.0</td>\n",
       "      <td>0.0</td>\n",
       "      <td>0.0</td>\n",
       "      <td>NaN</td>\n",
       "      <td>NaN</td>\n",
       "    </tr>\n",
       "  </tbody>\n",
       "</table>\n",
       "</div>"
      ],
      "text/plain": [
       "     Season  No. episode                      Company Deal           Industry  \\\n",
       "Row                                                                             \n",
       "NaN     NaN          NaN                          NaN  NaN                NaN   \n",
       "2.0     1.0          1.0             Ava the Elephant  Yes         Healthcare   \n",
       "3.0     1.0          1.0        Mr. Tod's Pie Factory  Yes  Food and Beverage   \n",
       "4.0     1.0          1.0                      Wispots   No  Business Services   \n",
       "5.0     1.0          1.0  College Foxes Packing Boxes   No   Lifestyle / Home   \n",
       "\n",
       "     Gender    Amount Equity  Corcoran  Cuban  Greiner  Herjavec  John  \\\n",
       "Row                                                                      \n",
       "NaN     NaN       NaN    NaN       0.0    0.0      0.0       0.0   0.0   \n",
       "2.0  Female   $50,000    55%       1.0    0.0      0.0       0.0   0.0   \n",
       "3.0    Male  $460,000    50%       1.0    0.0      0.0       0.0   1.0   \n",
       "4.0    Male       NaN    NaN       0.0    0.0      0.0       0.0   0.0   \n",
       "5.0    Male       NaN    NaN       0.0    0.0      0.0       0.0   0.0   \n",
       "\n",
       "     O'Leary  Harrington  Guest     Total  \n",
       "Row                                        \n",
       "NaN      0.0         0.0    NaN       NaN  \n",
       "2.0      0.0         0.0    NaN   $50,000  \n",
       "3.0      0.0         0.0    NaN  $230,000  \n",
       "4.0      0.0         0.0    NaN       NaN  \n",
       "5.0      0.0         0.0    NaN       NaN  "
      ]
     },
     "execution_count": 826,
     "metadata": {},
     "output_type": "execute_result"
    }
   ],
   "source": [
    "sharks = [\"Corcoran\", \"Cuban\", \"Greiner\", \"Herjavec\", \"John\", \"O'Leary\", \"Harrington\"]\n",
    "df[sharks] = df[sharks].fillna(0)\n",
    "df.head()"
   ]
  },
  {
   "cell_type": "markdown",
   "id": "18c9285e",
   "metadata": {},
   "source": [
    "Verificamos que os dados respetivos a \"Amount\", \"Equity\", \"Valuation\" e \"Total invested\" estão a ser tratados atualmente como variáveis categóricas, 'dtype: object'. Portanto, vamos proceder a limpar essas colunas e convertê-las em numéricos, isto é, um dtype de int ou float, porque precisaremos realizar operações matemáticas nessas colunas."
   ]
  },
  {
   "cell_type": "code",
   "execution_count": 808,
   "id": "4343b6e4",
   "metadata": {},
   "outputs": [
    {
     "name": "stderr",
     "output_type": "stream",
     "text": [
      "/var/folders/_h/qh8nl2t946s4101bs7h1fy7w0000gn/T/ipykernel_16120/1197805570.py:2: FutureWarning: The default value of regex will change from True to False in a future version. In addition, single character regular expressions will *not* be treated as literal strings when regex=True.\n",
      "  df.Amount = df[df.Deal == \"Yes\"].Amount.str.replace(\"$\",\"\").str.replace(\",\",\"\").astype(int)\n"
     ]
    }
   ],
   "source": [
    "# Converter \"Amount\" a númerico\n",
    "df.Amount = df[df.Deal == \"Yes\"].Amount.str.replace(\"$\",\"\").str.replace(\",\",\"\").astype(int)"
   ]
  },
  {
   "cell_type": "code",
   "execution_count": 809,
   "id": "6284998a",
   "metadata": {},
   "outputs": [],
   "source": [
    "# Converter \"Equity\" a númerico\n",
    "df.Equity = df[df.Deal == \"Yes\"].Equity.str.replace(\"%\",\"\").str.replace(\"n/a\", \"0\").astype(float)"
   ]
  },
  {
   "cell_type": "code",
   "execution_count": 810,
   "id": "f36da029",
   "metadata": {},
   "outputs": [
    {
     "data": {
      "text/html": [
       "<div>\n",
       "<style scoped>\n",
       "    .dataframe tbody tr th:only-of-type {\n",
       "        vertical-align: middle;\n",
       "    }\n",
       "\n",
       "    .dataframe tbody tr th {\n",
       "        vertical-align: top;\n",
       "    }\n",
       "\n",
       "    .dataframe thead th {\n",
       "        text-align: right;\n",
       "    }\n",
       "</style>\n",
       "<table border=\"1\" class=\"dataframe\">\n",
       "  <thead>\n",
       "    <tr style=\"text-align: right;\">\n",
       "      <th></th>\n",
       "      <th>Season</th>\n",
       "      <th>No. episode</th>\n",
       "      <th>Company</th>\n",
       "      <th>Deal</th>\n",
       "      <th>Industry</th>\n",
       "      <th>Gender</th>\n",
       "      <th>Amount</th>\n",
       "      <th>Equity</th>\n",
       "      <th>Corcoran</th>\n",
       "      <th>Cuban</th>\n",
       "      <th>Greiner</th>\n",
       "      <th>Herjavec</th>\n",
       "      <th>John</th>\n",
       "      <th>O'Leary</th>\n",
       "      <th>Harrington</th>\n",
       "      <th>Guest</th>\n",
       "      <th>Total</th>\n",
       "    </tr>\n",
       "    <tr>\n",
       "      <th>Row</th>\n",
       "      <th></th>\n",
       "      <th></th>\n",
       "      <th></th>\n",
       "      <th></th>\n",
       "      <th></th>\n",
       "      <th></th>\n",
       "      <th></th>\n",
       "      <th></th>\n",
       "      <th></th>\n",
       "      <th></th>\n",
       "      <th></th>\n",
       "      <th></th>\n",
       "      <th></th>\n",
       "      <th></th>\n",
       "      <th></th>\n",
       "      <th></th>\n",
       "      <th></th>\n",
       "    </tr>\n",
       "  </thead>\n",
       "  <tbody>\n",
       "    <tr>\n",
       "      <th>NaN</th>\n",
       "      <td>NaN</td>\n",
       "      <td>NaN</td>\n",
       "      <td>NaN</td>\n",
       "      <td>NaN</td>\n",
       "      <td>NaN</td>\n",
       "      <td>NaN</td>\n",
       "      <td>NaN</td>\n",
       "      <td>NaN</td>\n",
       "      <td>0.0</td>\n",
       "      <td>0.0</td>\n",
       "      <td>0.0</td>\n",
       "      <td>0.0</td>\n",
       "      <td>0.0</td>\n",
       "      <td>0.0</td>\n",
       "      <td>0.0</td>\n",
       "      <td>NaN</td>\n",
       "      <td>NaN</td>\n",
       "    </tr>\n",
       "    <tr>\n",
       "      <th>2.0</th>\n",
       "      <td>1.0</td>\n",
       "      <td>1.0</td>\n",
       "      <td>Ava the Elephant</td>\n",
       "      <td>Yes</td>\n",
       "      <td>Healthcare</td>\n",
       "      <td>Female</td>\n",
       "      <td>50000.0</td>\n",
       "      <td>55.0</td>\n",
       "      <td>1.0</td>\n",
       "      <td>0.0</td>\n",
       "      <td>0.0</td>\n",
       "      <td>0.0</td>\n",
       "      <td>0.0</td>\n",
       "      <td>0.0</td>\n",
       "      <td>0.0</td>\n",
       "      <td>NaN</td>\n",
       "      <td>$50,000</td>\n",
       "    </tr>\n",
       "    <tr>\n",
       "      <th>3.0</th>\n",
       "      <td>1.0</td>\n",
       "      <td>1.0</td>\n",
       "      <td>Mr. Tod's Pie Factory</td>\n",
       "      <td>Yes</td>\n",
       "      <td>Food and Beverage</td>\n",
       "      <td>Male</td>\n",
       "      <td>460000.0</td>\n",
       "      <td>50.0</td>\n",
       "      <td>1.0</td>\n",
       "      <td>0.0</td>\n",
       "      <td>0.0</td>\n",
       "      <td>0.0</td>\n",
       "      <td>1.0</td>\n",
       "      <td>0.0</td>\n",
       "      <td>0.0</td>\n",
       "      <td>NaN</td>\n",
       "      <td>$230,000</td>\n",
       "    </tr>\n",
       "    <tr>\n",
       "      <th>4.0</th>\n",
       "      <td>1.0</td>\n",
       "      <td>1.0</td>\n",
       "      <td>Wispots</td>\n",
       "      <td>No</td>\n",
       "      <td>Business Services</td>\n",
       "      <td>Male</td>\n",
       "      <td>NaN</td>\n",
       "      <td>NaN</td>\n",
       "      <td>0.0</td>\n",
       "      <td>0.0</td>\n",
       "      <td>0.0</td>\n",
       "      <td>0.0</td>\n",
       "      <td>0.0</td>\n",
       "      <td>0.0</td>\n",
       "      <td>0.0</td>\n",
       "      <td>NaN</td>\n",
       "      <td>NaN</td>\n",
       "    </tr>\n",
       "    <tr>\n",
       "      <th>5.0</th>\n",
       "      <td>1.0</td>\n",
       "      <td>1.0</td>\n",
       "      <td>College Foxes Packing Boxes</td>\n",
       "      <td>No</td>\n",
       "      <td>Lifestyle / Home</td>\n",
       "      <td>Male</td>\n",
       "      <td>NaN</td>\n",
       "      <td>NaN</td>\n",
       "      <td>0.0</td>\n",
       "      <td>0.0</td>\n",
       "      <td>0.0</td>\n",
       "      <td>0.0</td>\n",
       "      <td>0.0</td>\n",
       "      <td>0.0</td>\n",
       "      <td>0.0</td>\n",
       "      <td>NaN</td>\n",
       "      <td>NaN</td>\n",
       "    </tr>\n",
       "  </tbody>\n",
       "</table>\n",
       "</div>"
      ],
      "text/plain": [
       "     Season  No. episode                      Company Deal           Industry  \\\n",
       "Row                                                                             \n",
       "NaN     NaN          NaN                          NaN  NaN                NaN   \n",
       "2.0     1.0          1.0             Ava the Elephant  Yes         Healthcare   \n",
       "3.0     1.0          1.0        Mr. Tod's Pie Factory  Yes  Food and Beverage   \n",
       "4.0     1.0          1.0                      Wispots   No  Business Services   \n",
       "5.0     1.0          1.0  College Foxes Packing Boxes   No   Lifestyle / Home   \n",
       "\n",
       "     Gender    Amount  Equity  Corcoran  Cuban  Greiner  Herjavec  John  \\\n",
       "Row                                                                       \n",
       "NaN     NaN       NaN     NaN       0.0    0.0      0.0       0.0   0.0   \n",
       "2.0  Female   50000.0    55.0       1.0    0.0      0.0       0.0   0.0   \n",
       "3.0    Male  460000.0    50.0       1.0    0.0      0.0       0.0   1.0   \n",
       "4.0    Male       NaN     NaN       0.0    0.0      0.0       0.0   0.0   \n",
       "5.0    Male       NaN     NaN       0.0    0.0      0.0       0.0   0.0   \n",
       "\n",
       "     O'Leary  Harrington  Guest     Total  \n",
       "Row                                        \n",
       "NaN      0.0         0.0    NaN       NaN  \n",
       "2.0      0.0         0.0    NaN   $50,000  \n",
       "3.0      0.0         0.0    NaN  $230,000  \n",
       "4.0      0.0         0.0    NaN       NaN  \n",
       "5.0      0.0         0.0    NaN       NaN  "
      ]
     },
     "execution_count": 810,
     "metadata": {},
     "output_type": "execute_result"
    }
   ],
   "source": [
    "df.head()"
   ]
  },
  {
   "cell_type": "markdown",
   "id": "8527f6e8",
   "metadata": {},
   "source": [
    "<strong> Questão 1 - Quantos episódios existem no total? </strong>"
   ]
  },
  {
   "cell_type": "code",
   "execution_count": 811,
   "id": "be55bb65",
   "metadata": {},
   "outputs": [
    {
     "data": {
      "text/plain": [
       "496"
      ]
     },
     "execution_count": 811,
     "metadata": {},
     "output_type": "execute_result"
    }
   ],
   "source": [
    "# Total de espisódios corresponde ao número de linhas.\n",
    "# Portanto iremos utilizar o atributo shape de pandas.DataFrame que armazena o número de linhas e colunas como uma tupla, o 0 signfica número de linhas e o 1 o número de colunas.\n",
    "total_episode = (df.shape[0])\n",
    "total_episode"
   ]
  },
  {
   "cell_type": "markdown",
   "id": "149d0b4f",
   "metadata": {},
   "source": [
    "Conclui-se que existem no total 496 episódios."
   ]
  },
  {
   "cell_type": "markdown",
   "id": "3d5fcbeb",
   "metadata": {},
   "source": [
    "<strong> Questão 2 - Quantas companhias conseguiram o investimento e quantas não conseguiram?  </strong>"
   ]
  },
  {
   "cell_type": "code",
   "execution_count": 812,
   "id": "61c76f59",
   "metadata": {},
   "outputs": [
    {
     "data": {
      "text/plain": [
       "Yes    249\n",
       "No     246\n",
       "Name: Deal, dtype: int64"
      ]
     },
     "execution_count": 812,
     "metadata": {},
     "output_type": "execute_result"
    }
   ],
   "source": [
    "# pandas count distinct values in column\n",
    "df['Deal'].value_counts()"
   ]
  },
  {
   "cell_type": "markdown",
   "id": "2f02fae8",
   "metadata": {},
   "source": [
    "Assim sendo, 249 companhias conseguiram o investimento e fecharam negócio, e por outro lado 246 companhias não conseguiram fechar negócio."
   ]
  },
  {
   "cell_type": "markdown",
   "id": "0fc74e43",
   "metadata": {},
   "source": [
    "<strong> Questão 3 - Qual o valor da companhia que pediu o investimento mais elevado? </strong>"
   ]
  },
  {
   "cell_type": "code",
   "execution_count": 813,
   "id": "b6f36d1d",
   "metadata": {},
   "outputs": [
    {
     "data": {
      "text/plain": [
       "Season                     6.0\n",
       "No. episode               27.0\n",
       "Company                 AirCar\n",
       "Deal                       Yes\n",
       "Industry       Green/CleanTech\n",
       "Gender                    Male\n",
       "Amount               5000000.0\n",
       "Equity                    50.0\n",
       "Corcoran                   0.0\n",
       "Cuban                      0.0\n",
       "Greiner                    0.0\n",
       "Herjavec                   1.0\n",
       "John                       0.0\n",
       "O'Leary                    0.0\n",
       "Harrington                 0.0\n",
       "Guest                      NaN\n",
       "Total               $5,000,000\n",
       "Name: 485.0, dtype: object"
      ]
     },
     "execution_count": 813,
     "metadata": {},
     "output_type": "execute_result"
    }
   ],
   "source": [
    "#Determinar o valor mais elevado na coluna \"Amount\"\n",
    "df.loc[df['Amount'].idxmax()]"
   ]
  },
  {
   "cell_type": "markdown",
   "id": "55d044a0",
   "metadata": {},
   "source": [
    "A companhia AirCar pediu um investimento de $5,000,000, tornando-se assim a companhia que solicitou o investimento mais elevado durante as primeiras 6 temporadas."
   ]
  },
  {
   "cell_type": "markdown",
   "id": "3d29809a",
   "metadata": {},
   "source": [
    "<strong> Questão 4 - Qual a companhia que valia mais? </strong>"
   ]
  },
  {
   "cell_type": "code",
   "execution_count": 814,
   "id": "5c00ee1d",
   "metadata": {},
   "outputs": [
    {
     "data": {
      "text/html": [
       "<div>\n",
       "<style scoped>\n",
       "    .dataframe tbody tr th:only-of-type {\n",
       "        vertical-align: middle;\n",
       "    }\n",
       "\n",
       "    .dataframe tbody tr th {\n",
       "        vertical-align: top;\n",
       "    }\n",
       "\n",
       "    .dataframe thead th {\n",
       "        text-align: right;\n",
       "    }\n",
       "</style>\n",
       "<table border=\"1\" class=\"dataframe\">\n",
       "  <thead>\n",
       "    <tr style=\"text-align: right;\">\n",
       "      <th></th>\n",
       "      <th>Season</th>\n",
       "      <th>No. episode</th>\n",
       "      <th>Company</th>\n",
       "      <th>Deal</th>\n",
       "      <th>Industry</th>\n",
       "      <th>Gender</th>\n",
       "      <th>Amount</th>\n",
       "      <th>Equity</th>\n",
       "      <th>Corcoran</th>\n",
       "      <th>Cuban</th>\n",
       "      <th>Greiner</th>\n",
       "      <th>Herjavec</th>\n",
       "      <th>John</th>\n",
       "      <th>O'Leary</th>\n",
       "      <th>Harrington</th>\n",
       "      <th>Guest</th>\n",
       "      <th>Total</th>\n",
       "      <th>Valuation</th>\n",
       "    </tr>\n",
       "    <tr>\n",
       "      <th>Row</th>\n",
       "      <th></th>\n",
       "      <th></th>\n",
       "      <th></th>\n",
       "      <th></th>\n",
       "      <th></th>\n",
       "      <th></th>\n",
       "      <th></th>\n",
       "      <th></th>\n",
       "      <th></th>\n",
       "      <th></th>\n",
       "      <th></th>\n",
       "      <th></th>\n",
       "      <th></th>\n",
       "      <th></th>\n",
       "      <th></th>\n",
       "      <th></th>\n",
       "      <th></th>\n",
       "      <th></th>\n",
       "    </tr>\n",
       "  </thead>\n",
       "  <tbody>\n",
       "    <tr>\n",
       "      <th>423.0</th>\n",
       "      <td>6.0</td>\n",
       "      <td>11.0</td>\n",
       "      <td>Zipz</td>\n",
       "      <td>Yes</td>\n",
       "      <td>Food and Beverage</td>\n",
       "      <td>Male</td>\n",
       "      <td>2500000.0</td>\n",
       "      <td>10.0</td>\n",
       "      <td>0.0</td>\n",
       "      <td>0.0</td>\n",
       "      <td>0.0</td>\n",
       "      <td>0.0</td>\n",
       "      <td>0.0</td>\n",
       "      <td>1.0</td>\n",
       "      <td>0.0</td>\n",
       "      <td>NaN</td>\n",
       "      <td>$2,500,000</td>\n",
       "      <td>25000000.0</td>\n",
       "    </tr>\n",
       "  </tbody>\n",
       "</table>\n",
       "</div>"
      ],
      "text/plain": [
       "       Season  No. episode Company Deal           Industry Gender     Amount  \\\n",
       "Row                                                                            \n",
       "423.0     6.0         11.0    Zipz  Yes  Food and Beverage   Male  2500000.0   \n",
       "\n",
       "       Equity  Corcoran  Cuban  Greiner  Herjavec  John  O'Leary  Harrington  \\\n",
       "Row                                                                            \n",
       "423.0    10.0       0.0    0.0      0.0       0.0   0.0      1.0         0.0   \n",
       "\n",
       "       Guest       Total   Valuation  \n",
       "Row                                   \n",
       "423.0    NaN  $2,500,000  25000000.0  "
      ]
     },
     "execution_count": 814,
     "metadata": {},
     "output_type": "execute_result"
    }
   ],
   "source": [
    "# A avaliação de uma empresa é o quanto ela vale. Se alguém investir $ 10.000 por uma participação de 40% na empresa, isso significa que a empresa deve ser avaliada em $ 25.000, já que 40% de $ 25.000 são $ 10.000.\n",
    "# Calcule a avaliação de cada empresa que foi financiada. Qual empresa foi mais valiosa? É a mesma empresa que recebeu o maior investimento total dos \"sharks\"?\n",
    "df[\"Valuation\"] = df[df.Deal == \"Yes\"].Amount / (df[df.Deal == \"Yes\"].Equity / 100)\n",
    "max_val = df[(df.Deal == \"Yes\") & (df.Equity != 0)].Valuation.max()\n",
    "df[df.Valuation == max_val]"
   ]
  },
  {
   "cell_type": "code",
   "execution_count": 815,
   "id": "e22f1914",
   "metadata": {},
   "outputs": [
    {
     "data": {
      "text/html": [
       "<div>\n",
       "<style scoped>\n",
       "    .dataframe tbody tr th:only-of-type {\n",
       "        vertical-align: middle;\n",
       "    }\n",
       "\n",
       "    .dataframe tbody tr th {\n",
       "        vertical-align: top;\n",
       "    }\n",
       "\n",
       "    .dataframe thead th {\n",
       "        text-align: right;\n",
       "    }\n",
       "</style>\n",
       "<table border=\"1\" class=\"dataframe\">\n",
       "  <thead>\n",
       "    <tr style=\"text-align: right;\">\n",
       "      <th></th>\n",
       "      <th>Season</th>\n",
       "      <th>No. episode</th>\n",
       "      <th>Company</th>\n",
       "      <th>Deal</th>\n",
       "      <th>Industry</th>\n",
       "      <th>Gender</th>\n",
       "      <th>Amount</th>\n",
       "      <th>Equity</th>\n",
       "      <th>Corcoran</th>\n",
       "      <th>Cuban</th>\n",
       "      <th>Greiner</th>\n",
       "      <th>Herjavec</th>\n",
       "      <th>John</th>\n",
       "      <th>O'Leary</th>\n",
       "      <th>Harrington</th>\n",
       "      <th>Guest</th>\n",
       "      <th>Total</th>\n",
       "      <th>Valuation</th>\n",
       "    </tr>\n",
       "    <tr>\n",
       "      <th>Row</th>\n",
       "      <th></th>\n",
       "      <th></th>\n",
       "      <th></th>\n",
       "      <th></th>\n",
       "      <th></th>\n",
       "      <th></th>\n",
       "      <th></th>\n",
       "      <th></th>\n",
       "      <th></th>\n",
       "      <th></th>\n",
       "      <th></th>\n",
       "      <th></th>\n",
       "      <th></th>\n",
       "      <th></th>\n",
       "      <th></th>\n",
       "      <th></th>\n",
       "      <th></th>\n",
       "      <th></th>\n",
       "    </tr>\n",
       "  </thead>\n",
       "  <tbody>\n",
       "    <tr>\n",
       "      <th>485.0</th>\n",
       "      <td>6.0</td>\n",
       "      <td>27.0</td>\n",
       "      <td>AirCar</td>\n",
       "      <td>Yes</td>\n",
       "      <td>Green/CleanTech</td>\n",
       "      <td>Male</td>\n",
       "      <td>5000000.0</td>\n",
       "      <td>50.0</td>\n",
       "      <td>0.0</td>\n",
       "      <td>0.0</td>\n",
       "      <td>0.0</td>\n",
       "      <td>1.0</td>\n",
       "      <td>0.0</td>\n",
       "      <td>0.0</td>\n",
       "      <td>0.0</td>\n",
       "      <td>NaN</td>\n",
       "      <td>$5,000,000</td>\n",
       "      <td>10000000.0</td>\n",
       "    </tr>\n",
       "  </tbody>\n",
       "</table>\n",
       "</div>"
      ],
      "text/plain": [
       "       Season  No. episode Company Deal         Industry Gender     Amount  \\\n",
       "Row                                                                          \n",
       "485.0     6.0         27.0  AirCar  Yes  Green/CleanTech   Male  5000000.0   \n",
       "\n",
       "       Equity  Corcoran  Cuban  Greiner  Herjavec  John  O'Leary  Harrington  \\\n",
       "Row                                                                            \n",
       "485.0    50.0       0.0    0.0      0.0       1.0   0.0      0.0         0.0   \n",
       "\n",
       "       Guest       Total   Valuation  \n",
       "Row                                   \n",
       "485.0    NaN  $5,000,000  10000000.0  "
      ]
     },
     "execution_count": 815,
     "metadata": {},
     "output_type": "execute_result"
    }
   ],
   "source": [
    "max_amt = df[df.Deal == \"Yes\"].Amount.max()\n",
    "df[df.Amount == max_amt]"
   ]
  },
  {
   "cell_type": "markdown",
   "id": "b36e20b9",
   "metadata": {},
   "source": [
    "A empresa \"Zipz\" foi a mais valiosa, avaliada em 25 milhões de dólares. O'Leary investiu 2,5 milhões de dólares com um patrimônio de 10%. No entanto, não é o máximo que um tubarão investiu: a empresa \"AirCar\" recebeu 5 milhões de dólares, mas com 50% de capital, avaliado apenas em 10 milhões de dólares."
   ]
  },
  {
   "cell_type": "markdown",
   "id": "a0259516",
   "metadata": {},
   "source": [
    "<strong> Questão 5 - Qual \"shark\" investiu mais? </strong>"
   ]
  },
  {
   "cell_type": "code",
   "execution_count": 816,
   "id": "79ad19af",
   "metadata": {},
   "outputs": [
    {
     "data": {
      "text/plain": [
       "Corcoran       4912500.0\n",
       "Cuban         17817500.0\n",
       "Greiner        8170000.0\n",
       "Herjavec      16297500.0\n",
       "John           8154000.0\n",
       "O'Leary        7952500.0\n",
       "Harrington      800000.0\n",
       "Guest           400000.0\n",
       "dtype: float64"
      ]
     },
     "execution_count": 816,
     "metadata": {},
     "output_type": "execute_result"
    }
   ],
   "source": [
    "#Calcule a quantia total de dinheiro que cada tubarão investiu ao longo das 6 temporadas. Qual tubarão investiu mais dinheiro nas 6 temporadas?\n",
    "#Logo se x \"sharks\" financiaram um determinado empreendimento, o valor que cada tubarão investiu é o valor total dividido por x.\n",
    "sums = df.loc[:, \"Corcoran\":\"Guest\"].sum(axis=1)\n",
    "each_amounts = df.Amount.divide(sums)\n",
    "df.loc[:, \"Corcoran\":\"Guest\"].multiply(each_amounts, axis=0).sum()"
   ]
  },
  {
   "cell_type": "markdown",
   "id": "660fb670",
   "metadata": {},
   "source": [
    "De acordo com os cálculos, Corcoran investiu mais dinheiro nas 6 temporadas com um total de 17.817.500 dólares"
   ]
  },
  {
   "cell_type": "markdown",
   "id": "6dd48495",
   "metadata": {},
   "source": [
    "<strong> Questão 6 - Existe alguma preferência numa determinada indústria? Se sim, qual? \n",
    "    E a indústria com com menos investimentos qual é?</strong>"
   ]
  },
  {
   "cell_type": "code",
   "execution_count": 817,
   "id": "0fe746ed",
   "metadata": {},
   "outputs": [],
   "source": [
    "# Calcula-se a taxa de financiamento (a proporção de empresas que foram financiadas) para cada setor. Faça uma visualização mostrando essas informações.\n",
    "industry_funded = df[df.Deal == \"Yes\"].groupby(\"Industry\").Deal.count() / df.groupby(\"Industry\").Deal.count()"
   ]
  },
  {
   "cell_type": "code",
   "execution_count": 818,
   "id": "f86a2a20",
   "metadata": {},
   "outputs": [
    {
     "data": {
      "text/plain": [
       "<AxesSubplot:title={'center':'Investments by Industries'}, ylabel='Industry'>"
      ]
     },
     "execution_count": 818,
     "metadata": {},
     "output_type": "execute_result"
    },
    {
     "data": {
      "image/png": "[encoded data removed]",
      "text/plain": [
       "<Figure size 576x432 with 1 Axes>"
      ]
     },
     "metadata": {
      "needs_background": "light"
     },
     "output_type": "display_data"
    }
   ],
   "source": [
    "# Plot the graph\n",
    "industry_funded.plot(\n",
    "  kind = 'barh',\n",
    "  title = 'Investments by Industries',\n",
    "  figsize = [8,6],\n",
    "  color = 'blue')"
   ]
  },
  {
   "cell_type": "markdown",
   "id": "032b2c32",
   "metadata": {},
   "source": [
    "Analisando o gráfico, verifica-se que o setor de Fitness/Esportes tem a maior taxa de financiamento, e o setor de Serviços Empresariais tem a menor taxa de financiamento."
   ]
  }
 ],
 "metadata": {
  "kernelspec": {
   "display_name": "Python 3 (ipykernel)",
   "language": "python",
   "name": "python3"
  },
  "language_info": {
   "codemirror_mode": {
    "name": "ipython",
    "version": 3
   },
   "file_extension": ".py",
   "mimetype": "text/x-python",
   "name": "python",
   "nbconvert_exporter": "python",
   "pygments_lexer": "ipython3",
   "version": "3.9.7"
  }
 },
 "nbformat": 4,
 "nbformat_minor": 5
}
